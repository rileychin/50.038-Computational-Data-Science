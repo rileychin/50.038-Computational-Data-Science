{
  "nbformat": 4,
  "nbformat_minor": 0,
  "metadata": {
    "colab": {
      "name": "CDS py ry hy pytorch_classification.ipynb",
      "provenance": [],
      "collapsed_sections": []
    },
    "kernelspec": {
      "name": "python3",
      "display_name": "Python 3"
    },
    "language_info": {
      "name": "python"
    }
  },
  "cells": [
    {
      "cell_type": "code",
      "metadata": {
        "id": "_30IAP0CIjHv"
      },
      "source": [
        "import matplotlib.pyplot as plt\n",
        "import numpy as numpy\n",
        "import pandas as pd\n",
        "from sklearn.model_selection import train_test_split"
      ],
      "execution_count": null,
      "outputs": []
    },
    {
      "cell_type": "code",
      "metadata": {
        "colab": {
          "base_uri": "https://localhost:8080/"
        },
        "id": "qVrypWvPOLHr",
        "outputId": "cf2bb625-8e9c-4ce9-a6fb-65074a3087b1"
      },
      "source": [
        "from sklearn.utils import shuffle\n",
        "\n",
        "train_data = pd.read_csv('mean_variance.csv') # Load training data\n",
        "test_data = pd.read_csv('mean_variance_test.csv') # Load test data\n",
        "all_data = pd.concat([train_data,test_data])\n",
        "print(all_data)\n"
      ],
      "execution_count": null,
      "outputs": [
        {
          "output_type": "stream",
          "name": "stdout",
          "text": [
            "                   file  r_arm_mean  ...  l_hip_variance  class\n",
            "0   20211024_221837.mp4  146.130091  ...        6.954082      0\n",
            "1   20211024_221843.mp4  146.964444  ...       36.589102      0\n",
            "2   20211024_221849.mp4  132.262152  ...        6.896821      0\n",
            "3   20211024_221854.mp4  129.460933  ...        3.677057      0\n",
            "4   20211024_221859.mp4  145.072982  ...       27.149071      0\n",
            "..                  ...         ...  ...             ...    ...\n",
            "3             Bad 5.mov  238.301892  ...       28.123903      0\n",
            "4             Bad 6.mov  233.855052  ...        1.977847      0\n",
            "5               Bad.mov  212.406343  ...      241.859238      0\n",
            "6            Good 2.mov  150.567713  ...       19.678639      1\n",
            "7            Good 3.mov  180.774950  ...    17002.579070      1\n",
            "\n",
            "[81 rows x 14 columns]\n"
          ]
        }
      ]
    },
    {
      "cell_type": "code",
      "metadata": {
        "colab": {
          "base_uri": "https://localhost:8080/"
        },
        "id": "LRs3dS6DOQ2-",
        "outputId": "ab318aa6-e22c-4050-be69-e6a56d76d3ee"
      },
      "source": [
        "# Use \n",
        "\n",
        "# Split into training data for X_train,X_test,y_train,y_test\n",
        "# X_train = train_data.drop(['file','class'],1)\n",
        "# y_train = train_data['class']\n",
        "\n",
        "# X_test = test_data.drop(['file','class'],1)\n",
        "# y_test = test_data['class']\n",
        "\n",
        "# use train_test_split\n",
        "X_train,X_test,y_train,y_test = train_test_split(train_data.drop(['file','class'],1),train_data['class'],shuffle=True,test_size=0.1)\n",
        "print(X_train,X_test,y_train,y_test)"
      ],
      "execution_count": null,
      "outputs": [
        {
          "output_type": "stream",
          "name": "stdout",
          "text": [
            "    r_arm_mean  r_arm_variance  ...  l_hip_mean  l_hip_variance\n",
            "27  134.572653      904.047445  ...  174.886122       73.086449\n",
            "28  210.624359      725.444648  ...  171.605513       13.147290\n",
            "45  139.147454     1864.691504  ...  178.041091        6.166619\n",
            "41  141.049130     1522.214617  ...  184.401826        3.740447\n",
            "23  127.585614     1292.543682  ...  181.905088        6.627065\n",
            "..         ...             ...  ...         ...             ...\n",
            "48  219.962276     1985.813485  ...  180.989024        6.120868\n",
            "57  112.208837     2923.063396  ...  188.963837       37.321626\n",
            "71  110.807200     2003.311845  ...  177.284800        3.449340\n",
            "9   153.249484      814.863759  ...  173.169588       14.613450\n",
            "2   132.262152     1907.705799  ...  185.650000        6.896821\n",
            "\n",
            "[65 rows x 12 columns]     r_arm_mean  r_arm_variance  ...  l_hip_mean  l_hip_variance\n",
            "56  114.080112     2480.670165  ...  177.253146      858.354613\n",
            "34  245.197162     2621.174086  ...  168.331757       15.487806\n",
            "51   97.480300     2178.799171  ...  179.667300      361.029042\n",
            "21  132.202375     2697.301970  ...  185.744000        7.842181\n",
            "24  114.625983     2854.048204  ...  173.259744     1252.407435\n",
            "46  135.237431     1914.593582  ...  178.037339        4.989397\n",
            "37  130.750550     2001.097739  ...  184.896264        1.607795\n",
            "13  213.854825     2001.274496  ...  179.834737        9.784002\n",
            "\n",
            "[8 rows x 12 columns] 27    0\n",
            "28    0\n",
            "45    1\n",
            "41    1\n",
            "23    0\n",
            "     ..\n",
            "48    1\n",
            "57    1\n",
            "71    1\n",
            "9     0\n",
            "2     0\n",
            "Name: class, Length: 65, dtype: int64 56    1\n",
            "34    0\n",
            "51    1\n",
            "21    0\n",
            "24    0\n",
            "46    1\n",
            "37    1\n",
            "13    0\n",
            "Name: class, dtype: int64\n"
          ]
        }
      ]
    },
    {
      "cell_type": "code",
      "metadata": {
        "id": "x7JVoEkIOWKR"
      },
      "source": [
        "# Import necessary libraries\n",
        "\n",
        "import numpy as np\n",
        "import pandas as pd\n",
        "import seaborn as sns\n",
        "import matplotlib.pyplot as plt\n",
        "\n",
        "import torch\n",
        "import torch.nn as nn\n",
        "import torch.optim as optim\n",
        "from torch.utils.data import Dataset, DataLoader\n",
        "\n",
        "from sklearn.preprocessing import StandardScaler    \n",
        "from sklearn.model_selection import train_test_split\n",
        "from sklearn.metrics import confusion_matrix, classification_report"
      ],
      "execution_count": null,
      "outputs": []
    },
    {
      "cell_type": "code",
      "metadata": {
        "colab": {
          "base_uri": "https://localhost:8080/",
          "height": 296
        },
        "id": "VUGjy7LojcTd",
        "outputId": "c25a199c-f4dc-4943-91cc-3dd2ca2fe08f"
      },
      "source": [
        "sns.countplot(x='class',data=train_data)"
      ],
      "execution_count": null,
      "outputs": [
        {
          "output_type": "execute_result",
          "data": {
            "text/plain": [
              "<matplotlib.axes._subplots.AxesSubplot at 0x7f93023de510>"
            ]
          },
          "metadata": {},
          "execution_count": 411
        },
        {
          "output_type": "display_data",
          "data": {
            "image/png": "[encoded data removed]",
            "text/plain": [
              "<Figure size 432x288 with 1 Axes>"
            ]
          },
          "metadata": {
            "needs_background": "light"
          }
        }
      ]
    },
    {
      "cell_type": "code",
      "metadata": {
        "id": "BMtOil0Bjl8y"
      },
      "source": [
        "# Define a scaler to normalize input\n",
        "scaler = StandardScaler()\n",
        "X_train = scaler.fit_transform(X_train)\n",
        "X_test = scaler.transform(X_test)\n",
        "\n",
        "EPOCHS = 50\n",
        "BATCH_SIZE = 64\n",
        "LEARNING_RATE = 0.001"
      ],
      "execution_count": null,
      "outputs": []
    },
    {
      "cell_type": "code",
      "metadata": {
        "id": "Z3B1yQs8j_wt"
      },
      "source": [
        "## train data\n",
        "class TrainData(Dataset):\n",
        "    \n",
        "    def __init__(self, X_data, y_data):\n",
        "        self.X_data = X_data\n",
        "        self.y_data = y_data\n",
        "        \n",
        "    def __getitem__(self, index):\n",
        "        return self.X_data[index], self.y_data[index]\n",
        "        \n",
        "    def __len__ (self):\n",
        "        return len(self.X_data)\n",
        "\n",
        "\n",
        "train_data = TrainData(torch.FloatTensor(X_train), torch.FloatTensor(y_train))\n",
        "## test data    \n",
        "class TestData(Dataset):\n",
        "    \n",
        "    def __init__(self, X_data):\n",
        "        self.X_data = X_data\n",
        "        \n",
        "    def __getitem__(self, index):\n",
        "        return self.X_data[index]\n",
        "        \n",
        "    def __len__ (self):\n",
        "        return len(self.X_data)\n",
        "    \n",
        "\n",
        "test_data = TestData(torch.FloatTensor(X_test))"
      ],
      "execution_count": null,
      "outputs": []
    },
    {
      "cell_type": "code",
      "metadata": {
        "id": "kn521aZ8mQb-"
      },
      "source": [
        "train_loader = DataLoader(dataset=train_data, batch_size=BATCH_SIZE, shuffle=True,drop_last=True)\n",
        "test_loader = DataLoader(dataset=test_data, batch_size=1,drop_last=True)"
      ],
      "execution_count": null,
      "outputs": []
    },
    {
      "cell_type": "code",
      "metadata": {
        "id": "QB7vg-IcmUNc"
      },
      "source": [
        "class BinaryClassification(nn.Module):\n",
        "    def __init__(self):\n",
        "        super(BinaryClassification, self).__init__()\n",
        "        # Number of input features is 12., 6 * 2 angles of \n",
        "        self.layer_1 = nn.Linear(12, 64) \n",
        "        self.layer_2 = nn.Linear(64, 64)\n",
        "        self.layer_out = nn.Linear(64, 1) \n",
        "        \n",
        "        self.relu = nn.ReLU()\n",
        "        self.dropout = nn.Dropout(p=0.1) # prevents overfit\n",
        "        self.batchnorm = nn.BatchNorm1d(64)\n",
        "        \n",
        "    def forward(self, inputs):\n",
        "        x = self.relu(self.layer_1(inputs))\n",
        "        x = self.batchnorm(x)\n",
        "        x = self.relu(self.layer_2(x))\n",
        "        x = self.batchnorm(x)\n",
        "        x = self.dropout(x)\n",
        "        x = self.layer_out(x)\n",
        "        \n",
        "        return x"
      ],
      "execution_count": null,
      "outputs": []
    },
    {
      "cell_type": "code",
      "metadata": {
        "colab": {
          "base_uri": "https://localhost:8080/"
        },
        "id": "Gd3AUEVHmhmJ",
        "outputId": "b8e07df0-87d0-4092-f6a1-666bf0fbb990"
      },
      "source": [
        "device = torch.device(\"cuda:0\" if torch.cuda.is_available() else \"cpu\")\n",
        "print(device)\n"
      ],
      "execution_count": null,
      "outputs": [
        {
          "output_type": "stream",
          "name": "stdout",
          "text": [
            "cpu\n"
          ]
        }
      ]
    },
    {
      "cell_type": "code",
      "metadata": {
        "colab": {
          "base_uri": "https://localhost:8080/"
        },
        "id": "WnDLCvuHmjhc",
        "outputId": "daf2c5b8-f04d-4e92-f263-f7489c7aeecd"
      },
      "source": [
        "model = BinaryClassification()\n",
        "model.to(device)\n",
        "print(model)\n",
        "criterion = nn.BCEWithLogitsLoss()\n",
        "optimizer = optim.Adam(model.parameters(), lr=LEARNING_RATE)\n"
      ],
      "execution_count": null,
      "outputs": [
        {
          "output_type": "stream",
          "name": "stdout",
          "text": [
            "BinaryClassification(\n",
            "  (layer_1): Linear(in_features=12, out_features=64, bias=True)\n",
            "  (layer_2): Linear(in_features=64, out_features=64, bias=True)\n",
            "  (layer_out): Linear(in_features=64, out_features=1, bias=True)\n",
            "  (relu): ReLU()\n",
            "  (dropout): Dropout(p=0.1, inplace=False)\n",
            "  (batchnorm): BatchNorm1d(64, eps=1e-05, momentum=0.1, affine=True, track_running_stats=True)\n",
            ")\n"
          ]
        }
      ]
    },
    {
      "cell_type": "code",
      "metadata": {
        "id": "hkvsJUK3mmpL"
      },
      "source": [
        "def binary_acc(y_pred, y_test):\n",
        "    y_pred_tag = torch.round(torch.sigmoid(y_pred))\n",
        "\n",
        "    correct_results_sum = (y_pred_tag == y_test).sum().float()\n",
        "    acc = correct_results_sum/y_test.shape[0]\n",
        "    acc = torch.round(acc * 100)\n",
        "    \n",
        "    return acc"
      ],
      "execution_count": null,
      "outputs": []
    },
    {
      "cell_type": "code",
      "metadata": {
        "colab": {
          "base_uri": "https://localhost:8080/"
        },
        "id": "RwWmne6Emse3",
        "outputId": "1d283048-25fc-4c81-8450-d52fbd9c9e73"
      },
      "source": [
        "model.train()\n",
        "for e in range(1, EPOCHS+1):\n",
        "    epoch_loss = 0\n",
        "    epoch_acc = 0\n",
        "    for X_batch, y_batch in train_loader:\n",
        "        X_batch, y_batch = X_batch.to(device), y_batch.to(device)\n",
        "        optimizer.zero_grad()\n",
        "        \n",
        "        y_pred = model(X_batch)\n",
        "        \n",
        "        loss = criterion(y_pred, y_batch.unsqueeze(1))\n",
        "        acc = binary_acc(y_pred, y_batch.unsqueeze(1))\n",
        "        \n",
        "        loss.backward()\n",
        "        optimizer.step()\n",
        "        \n",
        "        epoch_loss += loss.item()\n",
        "        epoch_acc += acc.item()\n",
        "        \n",
        "\n",
        "    print(f'Epoch {e+0:03}: | Loss: {epoch_loss/len(train_loader):.5f} | Acc: {epoch_acc/len(train_loader):.3f}')"
      ],
      "execution_count": null,
      "outputs": [
        {
          "output_type": "stream",
          "name": "stdout",
          "text": [
            "Epoch 001: | Loss: 0.84336 | Acc: 36.000\n",
            "Epoch 002: | Loss: 0.78230 | Acc: 39.000\n",
            "Epoch 003: | Loss: 0.70033 | Acc: 55.000\n",
            "Epoch 004: | Loss: 0.68230 | Acc: 58.000\n",
            "Epoch 005: | Loss: 0.64675 | Acc: 66.000\n",
            "Epoch 006: | Loss: 0.58387 | Acc: 78.000\n",
            "Epoch 007: | Loss: 0.55647 | Acc: 78.000\n",
            "Epoch 008: | Loss: 0.53009 | Acc: 80.000\n",
            "Epoch 009: | Loss: 0.49221 | Acc: 80.000\n",
            "Epoch 010: | Loss: 0.46622 | Acc: 86.000\n",
            "Epoch 011: | Loss: 0.42317 | Acc: 88.000\n",
            "Epoch 012: | Loss: 0.43510 | Acc: 88.000\n",
            "Epoch 013: | Loss: 0.41155 | Acc: 88.000\n",
            "Epoch 014: | Loss: 0.39283 | Acc: 88.000\n",
            "Epoch 015: | Loss: 0.36620 | Acc: 89.000\n",
            "Epoch 016: | Loss: 0.35439 | Acc: 89.000\n",
            "Epoch 017: | Loss: 0.35883 | Acc: 91.000\n",
            "Epoch 018: | Loss: 0.35550 | Acc: 86.000\n",
            "Epoch 019: | Loss: 0.33675 | Acc: 88.000\n",
            "Epoch 020: | Loss: 0.31121 | Acc: 91.000\n",
            "Epoch 021: | Loss: 0.31726 | Acc: 91.000\n",
            "Epoch 022: | Loss: 0.31868 | Acc: 91.000\n",
            "Epoch 023: | Loss: 0.30948 | Acc: 88.000\n",
            "Epoch 024: | Loss: 0.27956 | Acc: 92.000\n",
            "Epoch 025: | Loss: 0.27194 | Acc: 92.000\n",
            "Epoch 026: | Loss: 0.27610 | Acc: 91.000\n",
            "Epoch 027: | Loss: 0.27729 | Acc: 89.000\n",
            "Epoch 028: | Loss: 0.26821 | Acc: 91.000\n",
            "Epoch 029: | Loss: 0.26336 | Acc: 91.000\n",
            "Epoch 030: | Loss: 0.26390 | Acc: 91.000\n",
            "Epoch 031: | Loss: 0.25305 | Acc: 91.000\n",
            "Epoch 032: | Loss: 0.23520 | Acc: 92.000\n",
            "Epoch 033: | Loss: 0.23363 | Acc: 92.000\n",
            "Epoch 034: | Loss: 0.23899 | Acc: 91.000\n",
            "Epoch 035: | Loss: 0.23151 | Acc: 92.000\n",
            "Epoch 036: | Loss: 0.21647 | Acc: 94.000\n",
            "Epoch 037: | Loss: 0.21689 | Acc: 94.000\n",
            "Epoch 038: | Loss: 0.21814 | Acc: 91.000\n",
            "Epoch 039: | Loss: 0.20394 | Acc: 95.000\n",
            "Epoch 040: | Loss: 0.19334 | Acc: 95.000\n",
            "Epoch 041: | Loss: 0.19331 | Acc: 94.000\n",
            "Epoch 042: | Loss: 0.18895 | Acc: 97.000\n",
            "Epoch 043: | Loss: 0.17959 | Acc: 95.000\n",
            "Epoch 044: | Loss: 0.17179 | Acc: 95.000\n",
            "Epoch 045: | Loss: 0.17075 | Acc: 97.000\n",
            "Epoch 046: | Loss: 0.16219 | Acc: 97.000\n",
            "Epoch 047: | Loss: 0.16385 | Acc: 98.000\n",
            "Epoch 048: | Loss: 0.15587 | Acc: 97.000\n",
            "Epoch 049: | Loss: 0.15131 | Acc: 97.000\n",
            "Epoch 050: | Loss: 0.15658 | Acc: 97.000\n"
          ]
        }
      ]
    },
    {
      "cell_type": "code",
      "metadata": {
        "id": "29nvynWvmvNj"
      },
      "source": [
        "y_pred_list = []\n",
        "model.eval()\n",
        "with torch.no_grad():\n",
        "    for X_batch in test_loader:\n",
        "        X_batch = X_batch.to(device)\n",
        "        y_test_pred = model(X_batch)\n",
        "        y_test_pred = torch.sigmoid(y_test_pred)\n",
        "        y_pred_tag = torch.round(y_test_pred)\n",
        "        y_pred_list.append(y_pred_tag.cpu().numpy())\n",
        "\n",
        "y_pred_list = [a.squeeze().tolist() for a in y_pred_list]"
      ],
      "execution_count": null,
      "outputs": []
    },
    {
      "cell_type": "code",
      "metadata": {
        "colab": {
          "base_uri": "https://localhost:8080/"
        },
        "id": "S4MJwp6Dmyx2",
        "outputId": "30b21b16-5ee6-43f7-9b40-2ff4321b6cef"
      },
      "source": [
        "print(confusion_matrix(y_test, y_pred_list))\n",
        "print(y_test)\n",
        "print(y_pred_list)\n",
        "print(classification_report(y_test, y_pred_list))"
      ],
      "execution_count": null,
      "outputs": [
        {
          "output_type": "stream",
          "name": "stdout",
          "text": [
            "[[4 0]\n",
            " [1 3]]\n",
            "56    1\n",
            "34    0\n",
            "51    1\n",
            "21    0\n",
            "24    0\n",
            "46    1\n",
            "37    1\n",
            "13    0\n",
            "Name: class, dtype: int64\n",
            "[0.0, 0.0, 1.0, 0.0, 0.0, 1.0, 1.0, 0.0]\n",
            "              precision    recall  f1-score   support\n",
            "\n",
            "           0       0.80      1.00      0.89         4\n",
            "           1       1.00      0.75      0.86         4\n",
            "\n",
            "    accuracy                           0.88         8\n",
            "   macro avg       0.90      0.88      0.87         8\n",
            "weighted avg       0.90      0.88      0.87         8\n",
            "\n"
          ]
        }
      ]
    },
    {
      "cell_type": "code",
      "metadata": {
        "id": "BWbYTbVrm0xJ"
      },
      "source": [
        ""
      ],
      "execution_count": null,
      "outputs": []
    }
  ]
}